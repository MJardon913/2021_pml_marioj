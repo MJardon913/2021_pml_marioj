{
 "cells": [
  {
   "cell_type": "code",
   "execution_count": 1,
   "id": "6afce5c7-49fe-445f-85ba-b687fc08025e",
   "metadata": {},
   "outputs": [],
   "source": [
    "#1\n",
    "import matplotlib.pyplot as plt\n",
    "import numpy as np\n",
    "import mglearn\n",
    "from sklearn.model_selection import train_test_split"
   ]
  },
  {
   "cell_type": "markdown",
   "id": "c8236569-7508-4973-a533-a91d06f1d379",
   "metadata": {},
   "source": [
    "Aplicar el algoritmo de KNeighborsRegressor al dataset de viviendas en Boston con los siguientes parámetros:\n",
    "\n",
    "    * random_state=2 para dividir el dataset en conjunto de entrenamiento y conjunto de prueba\n",
    "    * n_neighbors=3\n",
    "Responder:     \n",
    "    \n",
    "    * ¿Cuál es el desempeño en el conjunto de prueba? 0.58\n",
    "    * ¿Hay alguna mejora si el número de vecinos es 5? Sí"
   ]
  },
  {
   "cell_type": "code",
   "execution_count": 2,
   "id": "3520919d-9dde-4f12-a551-18528435b230",
   "metadata": {},
   "outputs": [
    {
     "data": {
      "text/plain": [
       "dict_keys(['data', 'target', 'feature_names', 'DESCR', 'filename'])"
      ]
     },
     "execution_count": 2,
     "metadata": {},
     "output_type": "execute_result"
    }
   ],
   "source": [
    "#2\n",
    "\n",
    "#Se carga el dataset de viviendas en Boston\n",
    "boston = mglearn.datasets.load_boston()\n",
    "#Se piden los nombres de los arrays de los que consiste boston\n",
    "boston.keys()\n"
   ]
  },
  {
   "cell_type": "code",
   "execution_count": 5,
   "id": "fcfd18b5-3cd4-4674-a82a-12648d6838a1",
   "metadata": {},
   "outputs": [
    {
     "name": "stdout",
     "output_type": "stream",
     "text": [
      "0.5913734190360908\n"
     ]
    }
   ],
   "source": [
    "#3 \n",
    "#Definir una variable X con los datos de boston, y una variable y con los targets, etc... \n",
    "X = boston.data\n",
    "y = boston.target\n",
    "\n",
    "X_train, X_test, y_train, y_test = train_test_split(X, y, random_state=2)\n",
    "\n",
    "from sklearn.neighbors import KNeighborsRegressor\n",
    "\n",
    "kn_reg = KNeighborsRegressor(n_neighbors=5).fit(X_train, y_train)\n",
    "\n",
    "print(kn_reg.score(X_test,y_test))"
   ]
  },
  {
   "cell_type": "markdown",
   "id": "2c17272b-64f6-4953-934f-5e7e3d01fc2c",
   "metadata": {},
   "source": [
    "Con los mismos conjuntos de entrenamiento que las preguntas anteriores, aplicar LinearRegression. \n",
    "\n",
    "Responder:\n",
    "    \n",
    "    * ¿Cuál es el desempeño en el conjunto de prueba ? 0.75\n",
    "    * ¿Cuál es el peso que tiene la criminalidad según el modelo? -9.81915048e-02"
   ]
  },
  {
   "cell_type": "code",
   "execution_count": 11,
   "id": "36058223-48c0-4f55-983d-833f1ce7b43d",
   "metadata": {},
   "outputs": [
    {
     "name": "stdout",
     "output_type": "stream",
     "text": [
      "0.7503116174489246\n"
     ]
    }
   ],
   "source": [
    "from sklearn.linear_model import LinearRegression\n",
    "\n",
    "linreg = LinearRegression().fit(X_train,y_train)\n",
    "print(linreg.score(X_test,y_test))"
   ]
  },
  {
   "cell_type": "code",
   "execution_count": 12,
   "id": "7f90aad6-adf5-427d-b5c0-1c61140fba71",
   "metadata": {},
   "outputs": [
    {
     "data": {
      "text/plain": [
       "array(['CRIM', 'ZN', 'INDUS', 'CHAS', 'NOX', 'RM', 'AGE', 'DIS', 'RAD',\n",
       "       'TAX', 'PTRATIO', 'B', 'LSTAT'], dtype='<U7')"
      ]
     },
     "execution_count": 12,
     "metadata": {},
     "output_type": "execute_result"
    }
   ],
   "source": [
    "boston.feature_names"
   ]
  },
  {
   "cell_type": "code",
   "execution_count": 14,
   "id": "33a239e3-bb20-4930-99ec-28307ea51932",
   "metadata": {},
   "outputs": [
    {
     "name": "stdout",
     "output_type": "stream",
     "text": [
      "[-9.81915048e-02  3.48400626e-02 -1.65945367e-02  3.36283135e+00\n",
      " -1.61477570e+01  3.57041012e+00  4.56458846e-03 -1.39585375e+00\n",
      "  3.15975518e-01 -1.20505823e-02 -1.04852815e+00  1.14536184e-02\n",
      " -5.52653040e-01]\n"
     ]
    }
   ],
   "source": [
    "print(linreg.coef_)"
   ]
  },
  {
   "cell_type": "code",
   "execution_count": null,
   "id": "344ae709-6d18-4e00-801d-eacfaa762664",
   "metadata": {},
   "outputs": [],
   "source": []
  }
 ],
 "metadata": {
  "kernelspec": {
   "display_name": "Python 3 (ipykernel)",
   "language": "python",
   "name": "python3"
  },
  "language_info": {
   "codemirror_mode": {
    "name": "ipython",
    "version": 3
   },
   "file_extension": ".py",
   "mimetype": "text/x-python",
   "name": "python",
   "nbconvert_exporter": "python",
   "pygments_lexer": "ipython3",
   "version": "3.9.5"
  }
 },
 "nbformat": 4,
 "nbformat_minor": 5
}
