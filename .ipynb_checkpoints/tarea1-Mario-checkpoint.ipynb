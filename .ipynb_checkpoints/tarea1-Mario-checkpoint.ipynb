{
 "cells": [
  {
   "cell_type": "markdown",
   "id": "0edd1c3e-a20f-4f4b-a3b1-a978f0f379aa",
   "metadata": {},
   "source": [
    "#### 1. Crear listas en Markdown"
   ]
  },
  {
   "cell_type": "markdown",
   "id": "763cd82d-a386-43da-bedf-0469c0ba0ce4",
   "metadata": {},
   "source": [
    "\n",
    "1. Get funding.\n",
    "1. Do work.\n",
    "    * Design experiment.\n",
    "    * Collect data.\n",
    "    * Analyze.\n",
    "1. Write up.\n",
    "1. Publish."
   ]
  },
  {
   "cell_type": "markdown",
   "id": "2cd69334-29c9-4af3-825d-75b4640828be",
   "metadata": {},
   "source": [
    "#### 3. Tipos de división \n",
    "\n",
    "If num_subjects is the number of subjects taking part in a study, and num_per_survey is the number that can take part in a single survey, write an expression that calculates the number of surveys needed to reach everyone once."
   ]
  },
  {
   "cell_type": "code",
   "execution_count": null,
   "id": "5af4539d-91f9-4265-aea9-14f4445568d4",
   "metadata": {},
   "outputs": [],
   "source": [
    "surveys_needed=(num_subjects // num_per_survey)+min(num_subjects % num_per_survey ,1)\n",
    "print(surveys_needed)"
   ]
  },
  {
   "cell_type": "markdown",
   "id": "3a92a484-561c-4d61-878a-26865850c358",
   "metadata": {
    "tags": []
   },
   "source": [
    "#### 4. Último caracter de un string\n",
    "If Python starts counting from zero, and len returns the number of characters in a string, what index expression will get the last character in the string name? (Note: we will see a simpler way to do this in a later episode.)"
   ]
  },
  {
   "cell_type": "code",
   "execution_count": 1,
   "id": "86ff3a2d-2660-43ca-9697-f4eecab33b69",
   "metadata": {},
   "outputs": [
    {
     "name": "stdout",
     "output_type": "stream",
     "text": [
      "e\n"
     ]
    }
   ],
   "source": [
    "name = 'name'\n",
    "print(name[len(name)-1])"
   ]
  },
  {
   "cell_type": "markdown",
   "id": "00d16468-14d5-4a4a-bce1-7a245e3292b5",
   "metadata": {},
   "source": [
    "#### 6. Jigsaw Puzzle (Parson’s Problem) Programming Example\n",
    "\n",
    "Rearrange the following statements so that a random DNA base is printed and its index in the string. Not all statements may be needed. Feel free to use/add intermediate variables.\n",
    "\n",
    "bases=\"ACTTGCTTGAC\" \n",
    "\n",
    "import math\n",
    "\n",
    "import random\n",
    "\n",
    "___ = random.randrange(n_bases)\n",
    "\n",
    "___ = len(bases)\n",
    "\n",
    "print(\"random base \", bases[___], \"base index\", ___)\n",
    "\n"
   ]
  },
  {
   "cell_type": "code",
   "execution_count": 2,
   "id": "574d2536-4fe0-4dbc-88e8-f87af5a77236",
   "metadata": {},
   "outputs": [
    {
     "name": "stdout",
     "output_type": "stream",
     "text": [
      "random base  T base index 2\n"
     ]
    }
   ],
   "source": [
    "bases=\"ACTTGCTTGAC\"\n",
    "import math\n",
    "import random\n",
    "n_bases = len(bases)\n",
    "random_index = random.randrange(n_bases)\n",
    "print(\"random base \", bases[random_index], \"base index\", random_index)"
   ]
  },
  {
   "cell_type": "markdown",
   "id": "0bad092e-5c0e-4310-a6e9-bfcd2010b9a3",
   "metadata": {},
   "source": [
    "#### 7. Writing data \n",
    "\n",
    "As well as the read_csv function for reading data from a file, Pandas provides a to_csv function to write dataframes to files. Applying what you’ve learned about reading from files, write one of your dataframes to a file called processed.csv. You can use help to get information on how to use to_csv."
   ]
  },
  {
   "cell_type": "code",
   "execution_count": 3,
   "id": "601eefa0-5f60-4fd7-ac4f-f379df2e4fa6",
   "metadata": {},
   "outputs": [],
   "source": [
    "import pandas as pd\n",
    "americas = pd.read_csv('data/gapminder_gdp_americas.csv', index_col='country')\n",
    "americas.to_csv('processed.csv')"
   ]
  },
  {
   "cell_type": "markdown",
   "id": "9b380997-0fbf-4fb5-aeb5-19fc6523c382",
   "metadata": {},
   "source": [
    "#### 8. Practice with selection\n",
    "\n",
    "Assume Pandas has been imported and the Gapminder GDP data for Europe has been loaded. Write an expression to select each of the following:\n",
    "\n",
    "1. GDP per capita for all countries in 1982.\n",
    "1. GDP per capita for Denmark for all years.\n",
    "1. GDP per capita for all countries for years after 1985.\n",
    "1. GDP per capita for each country in 2007 as a multiple of GDP per capita for that country in 1952."
   ]
  },
  {
   "cell_type": "code",
   "execution_count": 17,
   "id": "44433ded-042b-4613-a683-c7a199fc44fd",
   "metadata": {},
   "outputs": [
    {
     "name": "stdout",
     "output_type": "stream",
     "text": [
      "1. GDP per capita de todos los países de europa en 1982\n",
      " country\n",
      "Albania                    3630.880722\n",
      "Austria                   21597.083620\n",
      "Belgium                   20979.845890\n",
      "Bosnia and Herzegovina     4126.613157\n",
      "Bulgaria                   8224.191647\n",
      "Croatia                   13221.821840\n",
      "Czech Republic            15377.228550\n",
      "Denmark                   21688.040480\n",
      "Finland                   18533.157610\n",
      "France                    20293.897460\n",
      "Germany                   22031.532740\n",
      "Greece                    15268.420890\n",
      "Hungary                   12545.990660\n",
      "Iceland                   23269.607500\n",
      "Ireland                   12618.321410\n",
      "Italy                     16537.483500\n",
      "Montenegro                11222.587620\n",
      "Netherlands               21399.460460\n",
      "Norway                    26298.635310\n",
      "Poland                     8451.531004\n",
      "Portugal                  11753.842910\n",
      "Romania                    9605.314053\n",
      "Serbia                    15181.092700\n",
      "Slovak Republic           11348.545850\n",
      "Slovenia                  17866.721750\n",
      "Spain                     13926.169970\n",
      "Sweden                    20667.381250\n",
      "Switzerland               28397.715120\n",
      "Turkey                     4241.356344\n",
      "United Kingdom            18232.424520\n",
      "Name: gdpPercap_1982, dtype: float64\n",
      "2. GDP per capita de Dinamarca en la segunda mitad del siglo 20\n",
      " gdpPercap_1952     9692.385245\n",
      "gdpPercap_1957    11099.659350\n",
      "gdpPercap_1962    13583.313510\n",
      "gdpPercap_1967    15937.211230\n",
      "gdpPercap_1972    18866.207210\n",
      "gdpPercap_1977    20422.901500\n",
      "gdpPercap_1982    21688.040480\n",
      "gdpPercap_1987    25116.175810\n",
      "gdpPercap_1992    26406.739850\n",
      "gdpPercap_1997    29804.345670\n",
      "gdpPercap_2002    32166.500060\n",
      "gdpPercap_2007    35278.418740\n",
      "Name: Denmark, dtype: float64\n",
      "3.                         gdpPercap_1987  gdpPercap_1992  gdpPercap_1997  \\\n",
      "country                                                                  \n",
      "Albania                    3738.932735     2497.437901     3193.054604   \n",
      "Austria                   23687.826070    27042.018680    29095.920660   \n",
      "Belgium                   22525.563080    25575.570690    27561.196630   \n",
      "Bosnia and Herzegovina     4314.114757     2546.781445     4766.355904   \n",
      "Bulgaria                   8239.854824     6302.623438     5970.388760   \n",
      "Croatia                   13822.583940     8447.794873     9875.604515   \n",
      "Czech Republic            16310.443400    14297.021220    16048.514240   \n",
      "Denmark                   25116.175810    26406.739850    29804.345670   \n",
      "Finland                   21141.012230    20647.164990    23723.950200   \n",
      "France                    22066.442140    24703.796150    25889.784870   \n",
      "Germany                   24639.185660    26505.303170    27788.884160   \n",
      "Greece                    16120.528390    17541.496340    18747.698140   \n",
      "Hungary                   12986.479980    10535.628550    11712.776800   \n",
      "Iceland                   26923.206280    25144.392010    28061.099660   \n",
      "Ireland                   13872.866520    17558.815550    24521.947130   \n",
      "Italy                     19207.234820    22013.644860    24675.024460   \n",
      "Montenegro                11732.510170     7003.339037     6465.613349   \n",
      "Netherlands               23651.323610    26790.949610    30246.130630   \n",
      "Norway                    31540.974800    33965.661150    41283.164330   \n",
      "Poland                     9082.351172     7738.881247    10159.583680   \n",
      "Portugal                  13039.308760    16207.266630    17641.031560   \n",
      "Romania                    9696.273295     6598.409903     7346.547557   \n",
      "Serbia                    15870.878510     9325.068238     7914.320304   \n",
      "Slovak Republic           12037.267580     9498.467723    12126.230650   \n",
      "Slovenia                  18678.534920    14214.716810    17161.107350   \n",
      "Spain                     15764.983130    18603.064520    20445.298960   \n",
      "Sweden                    23586.929270    23880.016830    25266.594990   \n",
      "Switzerland               30281.704590    31871.530300    32135.323010   \n",
      "Turkey                     5089.043686     5678.348271     6601.429915   \n",
      "United Kingdom            21664.787670    22705.092540    26074.531360   \n",
      "\n",
      "                        gdpPercap_2002  gdpPercap_2007  \n",
      "country                                                 \n",
      "Albania                    4604.211737     5937.029526  \n",
      "Austria                   32417.607690    36126.492700  \n",
      "Belgium                   30485.883750    33692.605080  \n",
      "Bosnia and Herzegovina     6018.975239     7446.298803  \n",
      "Bulgaria                   7696.777725    10680.792820  \n",
      "Croatia                   11628.388950    14619.222720  \n",
      "Czech Republic            17596.210220    22833.308510  \n",
      "Denmark                   32166.500060    35278.418740  \n",
      "Finland                   28204.590570    33207.084400  \n",
      "France                    28926.032340    30470.016700  \n",
      "Germany                   30035.801980    32170.374420  \n",
      "Greece                    22514.254800    27538.411880  \n",
      "Hungary                   14843.935560    18008.944440  \n",
      "Iceland                   31163.201960    36180.789190  \n",
      "Ireland                   34077.049390    40675.996350  \n",
      "Italy                     27968.098170    28569.719700  \n",
      "Montenegro                 6557.194282     9253.896111  \n",
      "Netherlands               33724.757780    36797.933320  \n",
      "Norway                    44683.975250    49357.190170  \n",
      "Poland                    12002.239080    15389.924680  \n",
      "Portugal                  19970.907870    20509.647770  \n",
      "Romania                    7885.360081    10808.475610  \n",
      "Serbia                     7236.075251     9786.534714  \n",
      "Slovak Republic           13638.778370    18678.314350  \n",
      "Slovenia                  20660.019360    25768.257590  \n",
      "Spain                     24835.471660    28821.063700  \n",
      "Sweden                    29341.630930    33859.748350  \n",
      "Switzerland               34480.957710    37506.419070  \n",
      "Turkey                     6508.085718     8458.276384  \n",
      "United Kingdom            29478.999190    33203.261280  \n",
      "4. country\n",
      "Albania                   3.056725\n",
      "Austria                   4.085507\n",
      "Belgium                   3.468115\n",
      "Bosnia and Herzegovina    5.499526\n",
      "Bulgaria                  3.550004\n",
      "Croatia                   3.369858\n",
      "Czech Republic            2.765547\n",
      "Denmark                   3.178333\n",
      "Finland                   4.400962\n",
      "France                    3.517326\n",
      "Germany                   3.157727\n",
      "Greece                    5.601451\n",
      "Hungary                   2.981524\n",
      "Iceland                   3.913975\n",
      "Ireland                   7.264767\n",
      "Italy                     4.572138\n",
      "Montenegro                2.513102\n",
      "Netherlands               3.263329\n",
      "Norway                    4.235224\n",
      "Poland                    3.250761\n",
      "Portugal                  5.433636\n",
      "Romania                   2.740923\n",
      "Serbia                    1.964737\n",
      "Slovak Republic           3.065404\n",
      "Slovenia                  4.395606\n",
      "Spain                     6.313759\n",
      "Sweden                    3.416078\n",
      "Switzerland               2.094220\n",
      "Turkey                    3.812174\n",
      "United Kingdom            2.942722\n",
      "dtype: float64\n"
     ]
    }
   ],
   "source": [
    "europe = pd.read_csv('data/gapminder_gdp_europe.csv', index_col='country')\n",
    "#1\n",
    "print('1. GDP per capita de todos los países de europa en 1982\\n' , europe.loc[:,'gdpPercap_1982'])\n",
    "#2 \n",
    "print('2. GDP per capita de Dinamarca en la segunda mitad del siglo 20\\n', europe.loc['Denmark',:])\n",
    "#3 \n",
    "print('3.', europe.loc[:,'gdpPercap_1987':])\n",
    "#4\n",
    "print('4.', europe.loc[:,'gdpPercap_2007']/europe.loc[:,'gdpPercap_1957'])"
   ]
  },
  {
   "cell_type": "markdown",
   "id": "0597d121-1247-46a9-b934-fc715510eaa7",
   "metadata": {},
   "source": [
    "#### 9. Mínimos y máximos\n",
    "\n",
    "Fill in the blanks below to plot the minimum GDP per capita over time for all the countries in Europe. Modify it again to plot the maximum GDP per capita over time for Europe.\n",
    "\n",
    "data_europe = pd.read_csv('data/gapminder_gdp_europe.csv', index_col='country')\n",
    "\n",
    "data_europe.____.plot(label='min')\n",
    "\n",
    "data_europe.____\n",
    "\n",
    "plt.legend(loc='best')\n",
    "\n",
    "plt.xticks(rotation=90)"
   ]
  },
  {
   "cell_type": "code",
   "execution_count": 18,
   "id": "2c04f630-b523-4280-b2b3-d39f33db6cc6",
   "metadata": {},
   "outputs": [
    {
     "data": {
      "text/plain": [
       "(array([-2.,  0.,  2.,  4.,  6.,  8., 10., 12.]),\n",
       " [Text(-2.0, 0, 'gdpPercap_2002'),\n",
       "  Text(0.0, 0, 'gdpPercap_1952'),\n",
       "  Text(2.0, 0, 'gdpPercap_1962'),\n",
       "  Text(4.0, 0, 'gdpPercap_1972'),\n",
       "  Text(6.0, 0, 'gdpPercap_1982'),\n",
       "  Text(8.0, 0, 'gdpPercap_1992'),\n",
       "  Text(10.0, 0, 'gdpPercap_2002'),\n",
       "  Text(12.0, 0, '')])"
      ]
     },
     "execution_count": 18,
     "metadata": {},
     "output_type": "execute_result"
    },
    {
     "data": {
      "image/png": "[encoded data removed]",
      "text/plain": [
       "<Figure size 432x288 with 1 Axes>"
      ]
     },
     "metadata": {
      "needs_background": "light"
     },
     "output_type": "display_data"
    }
   ],
   "source": [
    "import matplotlib.pyplot as plt\n",
    "data_europe = pd.read_csv('data/gapminder_gdp_europe.csv', index_col='country')\n",
    "data_europe.min().plot(label='min')\n",
    "data_europe.max().plot(label='max')\n",
    "plt.legend(loc='best')\n",
    "plt.xticks(rotation=90)"
   ]
  },
  {
   "cell_type": "markdown",
   "id": "d12f4376-609f-403a-8544-82bba8821dea",
   "metadata": {},
   "source": [
    "#### 11. Llenar los espacios\n",
    "\n",
    "Fill in the blanks so that the program below produces the output shown.\n",
    "\n",
    "values = ____\n",
    "\n",
    "values.____(1)\n",
    "\n",
    "values.____(3)\n",
    "\n",
    "values.____(5)\n",
    "\n",
    "print('first time:', values)\n",
    "\n",
    "values = values[____]\n",
    "\n",
    "print('second time:', values)\n",
    "\n",
    "Output:\n",
    "\n",
    "first time: [1, 3, 5]\n",
    "\n",
    "second time: [3, 5]"
   ]
  },
  {
   "cell_type": "code",
   "execution_count": 19,
   "id": "0d8aa72c-5ccf-4d72-a1d1-ff40ffe5fdf2",
   "metadata": {},
   "outputs": [
    {
     "name": "stdout",
     "output_type": "stream",
     "text": [
      "first time: [1, 3, 5]\n",
      "second time: [3, 5]\n"
     ]
    }
   ],
   "source": [
    "values = []\n",
    "values.append(1)\n",
    "values.append(3)\n",
    "values.append(5)\n",
    "print('first time:', values)\n",
    "values = values[1:len(values)]\n",
    "print('second time:', values)"
   ]
  },
  {
   "cell_type": "markdown",
   "id": "5d853bf8-3826-4a15-8769-0094badff689",
   "metadata": {},
   "source": [
    "#### 12. Suma cumulativa\n",
    "\n",
    "Reorder and properly indent the lines of code below so that they print a list with the cumulative sum of data. The result should be [1, 3, 5, 10].\n",
    "\n",
    "cumulative.append(total)\n",
    "\n",
    "for number in data:\n",
    "\n",
    "cumulative = []\n",
    "\n",
    "total += number\n",
    "\n",
    "total = 0\n",
    "\n",
    "print(cumulative)\n",
    "\n",
    "data = [1,2,2,5]"
   ]
  },
  {
   "cell_type": "code",
   "execution_count": 33,
   "id": "8584ca4f-5423-4bba-9e3f-08203fb3e861",
   "metadata": {},
   "outputs": [
    {
     "name": "stdout",
     "output_type": "stream",
     "text": [
      "[1, 3, 5, 10]\n"
     ]
    }
   ],
   "source": [
    "data = [1,2,2,5]\n",
    "cumulative = []\n",
    "total = 0\n",
    "\n",
    "for number in data:\n",
    "\n",
    "    total += number\n",
    "    cumulative.append(total)\n",
    "\n",
    "print(cumulative)\n"
   ]
  },
  {
   "cell_type": "markdown",
   "id": "37be9783-632e-4d6b-9515-6c07d2829c62",
   "metadata": {},
   "source": [
    "#### 13. Trimming values\n",
    "\n",
    "Fill in the blanks so that this program creates a new list containing zeroes where the original list’s values were negative and ones where the original list’s values were positive.\n",
    "\n"
   ]
  },
  {
   "cell_type": "code",
   "execution_count": null,
   "id": "65fedbd5-e537-44c8-a08a-4a28c3624679",
   "metadata": {},
   "outputs": [],
   "source": [
    "original = [-1.5, 0.2, 0.4, 0.0, -1.3, 0.4]\n",
    "result = ____\n",
    "for value in original:\n",
    "    if ____:\n",
    "        result.append(0)\n",
    "    else:\n",
    "        ____\n",
    "print(result)"
   ]
  },
  {
   "cell_type": "code",
   "execution_count": null,
   "id": "a746e122-2a5d-4c91-879d-720f95fdc120",
   "metadata": {},
   "outputs": [],
   "source": [
    "original = [-1.5, 0.2, 0.4, 0.0, -1.3, 0.4]\n",
    "result = []\n",
    "for value in original:\n",
    "    if value < 0:\n",
    "        result.append(0)\n",
    "    else:\n",
    "        result.append(1)\n",
    "print(result)"
   ]
  },
  {
   "cell_type": "markdown",
   "id": "6b0e40fc-429d-4db9-b56d-101853ae40a0",
   "metadata": {},
   "source": [
    "#### 14. Minimum file size \n",
    "\n",
    "Modify this program so that it prints the number of records in the file that has the fewest records."
   ]
  },
  {
   "cell_type": "code",
   "execution_count": null,
   "id": "dfd67ed4-ed0a-4ef1-bf06-60ee9654bedd",
   "metadata": {},
   "outputs": [],
   "source": [
    "import glob\n",
    "import pandas as pd\n",
    "fewest = ____\n",
    "for filename in glob.glob('data/*.csv'):\n",
    "    dataframe = pd.____(filename)\n",
    "    fewest = min(____, dataframe.shape[0])\n",
    "print('smallest file has', fewest, 'records')"
   ]
  },
  {
   "cell_type": "code",
   "execution_count": 1,
   "id": "16e7c7c8-b520-407b-a92f-d95dcc204683",
   "metadata": {},
   "outputs": [
    {
     "name": "stdout",
     "output_type": "stream",
     "text": [
      "smallest file has 2 records\n"
     ]
    }
   ],
   "source": [
    "import glob\n",
    "import pandas as pd\n",
    "fewest = None\n",
    "for filename in glob.glob('data/*.csv'):\n",
    "    dataframe = pd.read_csv(filename)\n",
    "    if fewest == None:\n",
    "        fewest = dataframe.shape[0]\n",
    "    else:\n",
    "        fewest = min(fewest, dataframe.shape[0])\n",
    "print('smallest file has', fewest, 'records')"
   ]
  },
  {
   "cell_type": "markdown",
   "id": "b13d28d1-53d8-4f7b-9d59-ab87c04e42ce",
   "metadata": {},
   "source": [
    "#### 16. Simulando un sistema dinámico\n",
    "\n",
    "Define a function called logistic_map that takes two inputs: x, representing the current population (at time t), and a parameter r = 1. This function should return a value representing the state of the system (population) at time t + 1, using the mapping function:\n",
    "\n",
    "f(t+1) = r * f(t) * [1 - f(t)]"
   ]
  },
  {
   "cell_type": "code",
   "execution_count": 6,
   "id": "fbd93e5e-60b0-4ae8-87fa-fc1b099661f2",
   "metadata": {},
   "outputs": [],
   "source": [
    "def logistic_map(x,r):\n",
    "    return r * x * (1 - x)"
   ]
  },
  {
   "cell_type": "markdown",
   "id": "a1a96b27-ffba-47c3-b279-7e172d102d5d",
   "metadata": {},
   "source": [
    "Using a for or while loop, iterate the logistic_map function defined in part 1, starting from an initial population of 0.5, for a period of time t_final = 10. Store the intermediate results in a list so that after the loop terminates you have accumulated a sequence of values representing the state of the logistic map at times t = [0,1,...,t_final]. Print this list to see the evolution of the population."
   ]
  },
  {
   "cell_type": "code",
   "execution_count": 9,
   "id": "fea67677-ac55-4b5f-aa30-6978f5c1f38f",
   "metadata": {},
   "outputs": [
    {
     "name": "stdout",
     "output_type": "stream",
     "text": [
      "[0.5, 0.25, 0.1875, 0.15234375, 0.1291351318359375, 0.11245924956165254, 0.09981216674968249, 0.08984969811841606, 0.08177672986644556, 0.07508929631879595, 0.06945089389714401]\n"
     ]
    }
   ],
   "source": [
    "t_final = 10\n",
    "list_pop =[]\n",
    "y=0.5\n",
    "r=1\n",
    "for i in range(t_final +1):\n",
    "    list_pop.append(y)\n",
    "    y=logistic_map(y,r)\n",
    "\n",
    "print(list_pop)  "
   ]
  },
  {
   "cell_type": "markdown",
   "id": "b41e8e8d-d9df-4031-bbf1-16a50a29ec9c",
   "metadata": {},
   "source": [
    "Encapsulate the logic of your loop into a function called iterate that takes the initial population as its first input, the parameter t_final as its second input and the parameter r as its third input. The function should return the list of values representing the state of the logistic map at times t = [0,1,...,t_final]. Run this function for periods t_final = 100 and 1000 and print some of the values. Is the population trending toward a steady state?"
   ]
  },
  {
   "cell_type": "code",
   "execution_count": 12,
   "id": "37721d78-84b7-466c-a703-6efed1e20853",
   "metadata": {},
   "outputs": [],
   "source": [
    "def iterate(y,t_final,r):\n",
    "    \n",
    "    list_pop=[]\n",
    "    for i in range(t_final +1):\n",
    "        list_pop.append(y)\n",
    "        y=logistic_map(y,r)\n",
    "\n",
    "    return list_pop"
   ]
  },
  {
   "cell_type": "code",
   "execution_count": 13,
   "id": "0c5fb2ac-0648-4670-910c-916061ad3f81",
   "metadata": {},
   "outputs": [
    {
     "name": "stdout",
     "output_type": "stream",
     "text": [
      "[0.5, 0.25, 0.1875, 0.15234375, 0.1291351318359375, 0.11245924956165254, 0.09981216674968249, 0.08984969811841606, 0.08177672986644556, 0.07508929631879595, 0.06945089389714401, 0.06462746723403166, 0.06045075771294583, 0.05679646360487655, 0.05357062532685648, 0.05070081342894604, 0.04813024094658925, 0.04581372085301251, 0.04371482383461476, 0.041803838011723354, 0.04005627713921295, 0.03845177180095951, 0.036973233046326444, 0.035606213084428476, 0.03433841067421475, 0.03315928422658373, 0.03205974609616436, 0.031031918776413835, 0.03006893879346789, 0.029164797713302573, 0.028314212287644712, 0.0275125176701749, 0.02675557904162321, 0.026039718031770662, 0.02536165111659654, 0.02471843776923658, 0.02410743660348496, 0.023526268103893914, 0.022972782812997618, 0.02244503406282446, 0.02194125450874311, 0.021459835859325673, 0.020999311304216475, 0.02055834022896508, 0.020135694875995196, 0.019730248667856016, 0.01934096595536058, 0.018966892991274163, 0.01860714996153172, 0.01826092393184079, 0.017927462588996315, 0.017606068674116453, 0.017296095019958747, 0.016996940117019306, 0.016708044143677766, 0.01642888540457068, 0.016158977128934163, 0.015897864587080746, 0.01564512248865159, 0.015400352630966677, 0.015163181769808555, 0.014933259688424301, 0.014710257443502383, 0.014493865769448265, 0.014283793624505482, 0.014079766864198017, 0.01388152702924785, 0.013688830236584112, 0.013501446163338093, 0.013319157114836578, 0.013141757168586876, 0.012969051387108771, 0.012800855093227302, 0.0126369932021095, 0.012477299604919338, 0.012321616599488416, 0.012169794363863628, 0.0120216904690049, 0.011877169427272337, 0.011736102273668204, 0.011598366177090204, 0.011463844079112334, 0.011332424358042135, 0.011204000516211388, 0.011078470888644124, 0.010955738371413589, 0.010835710168150724, 0.010718297553302558, 0.010603415650861427, 0.010490983227396495, 0.01038092249831898, 0.010273158946402875, 0.010167621151664818, 0.010064240631781036, 0.009962951692286644, 0.009863691285863806, 0.00976639888008098, 0.009671016332996132, 0.009577487776083053, 0.009485759503982033, 0.009395779870614648]\n"
     ]
    }
   ],
   "source": [
    "print(iterate(0.5,100,1))"
   ]
  },
  {
   "cell_type": "code",
   "execution_count": 14,
   "id": "bb2a91d0-d55e-4548-b027-fd11a9b4c4ec",
   "metadata": {},
   "outputs": [
    {
     "name": "stdout",
     "output_type": "stream",
     "text": [
      "[0.5, 0.25, 0.1875, 0.15234375, 0.1291351318359375, 0.11245924956165254, 0.09981216674968249, 0.08984969811841606, 0.08177672986644556, 0.07508929631879595, 0.06945089389714401, 0.06462746723403166, 0.06045075771294583, 0.05679646360487655, 0.05357062532685648, 0.05070081342894604, 0.04813024094658925, 0.04581372085301251, 0.04371482383461476, 0.041803838011723354, 0.04005627713921295, 0.03845177180095951, 0.036973233046326444, 0.035606213084428476, 0.03433841067421475, 0.03315928422658373, 0.03205974609616436, 0.031031918776413835, 0.03006893879346789, 0.029164797713302573, 0.028314212287644712, 0.0275125176701749, 0.02675557904162321, 0.026039718031770662, 0.02536165111659654, 0.02471843776923658, 0.02410743660348496, 0.023526268103893914, 0.022972782812997618, 0.02244503406282446, 0.02194125450874311, 0.021459835859325673, 0.020999311304216475, 0.02055834022896508, 0.020135694875995196, 0.019730248667856016, 0.01934096595536058, 0.018966892991274163, 0.01860714996153172, 0.01826092393184079, 0.017927462588996315, 0.017606068674116453, 0.017296095019958747, 0.016996940117019306, 0.016708044143677766, 0.01642888540457068, 0.016158977128934163, 0.015897864587080746, 0.01564512248865159, 0.015400352630966677, 0.015163181769808555, 0.014933259688424301, 0.014710257443502383, 0.014493865769448265, 0.014283793624505482, 0.014079766864198017, 0.01388152702924785, 0.013688830236584112, 0.013501446163338093, 0.013319157114836578, 0.013141757168586876, 0.012969051387108771, 0.012800855093227302, 0.0126369932021095, 0.012477299604919338, 0.012321616599488416, 0.012169794363863628, 0.0120216904690049, 0.011877169427272337, 0.011736102273668204, 0.011598366177090204, 0.011463844079112334, 0.011332424358042135, 0.011204000516211388, 0.011078470888644124, 0.010955738371413589, 0.010835710168150724, 0.010718297553302558, 0.010603415650861427, 0.010490983227396495, 0.01038092249831898, 0.010273158946402875, 0.010167621151664818, 0.010064240631781036, 0.009962951692286644, 0.009863691285863806, 0.00976639888008098, 0.009671016332996132, 0.009577487776083053, 0.009485759503982033, 0.009395779870614648, 0.0093074991912376, 0.009220869650042712, 0.009135845212939633, 0.009052381545184842, 0.008970435933545238, 0.008889967212707399, 0.008810935695664386, 0.008733303107831254, 0.008657032524657998, 0.008582088312525011, 0.008508436072721032, 0.008436042588317452, 0.008364875773765545, 0.008294904627055016, 0.008226099184283077, 0.008158430476493415, 0.00809187048865364, 0.008026392120648495, 0.007961969150174086, 0.007898576197425762, 0.007836188691479222, 0.007774782838270756, 0.007714335590088487, 0.007654824616491981, 0.007596228276582729, 0.007538525592552774, 0.007481696224443201, 0.007425720446048354, 0.007370579121905493, 0.007316253685313224, 0.007262726117325364, 0.007209978926670084, 0.007157995130547058, 0.007106758236258123, 0.0070562522236295, 0.007006461528186024, 0.006957371025040073, 0.006908966013460006, 0.00686123220208486, 0.006814155694753934, 0.0067677229769215865, 0.006721920902629234, 0.00667673668200803, 0.006632157869287158, 0.00658817235128401, 0.006544768336353787, 0.006501934343777248, 0.006459659193566458, 0.00641793199666943, 0.006376742145555557, 0.006336079305164653, 0.006295933404203317, 0.006256294626773153, 0.006217153404316163, 0.006178500407863363, 0.006140326540573395, 0.006102622930548525, 0.006065380923916068, 0.0060285920781638636, 0.005992248155718963, 0.0059563411177592455, 0.005920863118248136, 0.005885806498183105, 0.005851163780049051, 0.005816927662468093, 0.005783091015037706, 0.005749646873349496, 0.0057165884341812785, 0.005683909050855463, 0.005651602228757067, 0.005619661621004975, 0.005588081024270378, 0.005556854374736568, 0.005525975744194539, 0.005495439336269113, 0.005465239482770499, 0.005435370640166466, 0.005405827386170483, 0.005376604416441413, 0.005347696541390516, 0.0053190986830917155, 0.005290805872291248, 0.005262813245512976, 0.005235116042255829, 0.005207709602279944, 0.005180589362978266, 0.005153750856830462, 0.005127189708936181, 0.00510090163462476, 0.005074882437138643, 0.0050491280053878655, 0.005023634311773073, 0.0049983974100746495, 0.004973413433405609, 0.004948678592226029, 0.004924189172416873, 0.004899941533411126, 0.004875932106380278, 0.004852157392474249, 0.004828613961112906, 0.004805298448327452, 0.004782207555149954, 0.0047593380460494205, 0.004736686747412847, 0.004714250546069731, 0.004692026387858612, 0.004670011276234251, 0.0046482022709140956, 0.004626596486562764, 0.00460519109151329, 0.004583983306523936, 0.004562970403569446, 0.004542149704665595, 0.004521518580726001, 0.00450107445045015, 0.004480814779241655, 0.004460737078155785, 0.004440838902875352, 0.00442111785271406, 0.004401571569646473, 0.004382197737363753, 0.004362994080354398, 0.004343958363009191, 0.0043250883887496335, 0.004306381999179137, 0.004287837073256283, 0.004269451526489492, 0.004251223310152449, 0.004233150410519665, 0.004215230848121582, 0.004197462677018626, 0.0041798439840936615, 0.004162372888362298, 0.004145047540300525, 0.004127866121189173, 0.004110826842474712, 0.0040939279451459015, 0.004077167699125855, 0.0040605444026790595, 0.0040440563818329315, 0.004027701989813488, 0.004011479606494741, 0.003995387637861418, 0.003979424515484642, 0.003963588696010201, 0.0039478786606590615, 0.003932292914739774, 0.003916829987172461, 0.0039014884300240475, 0.003886266818054436, 0.0038711637482733248, 0.003856177839507379, 0.0038413077319774712, 0.0038265520868857213, 0.003811909586012072, 0.003797378931320141, 0.0037829588445721066, 0.00376864806695238, 0.0037544453586998362, 0.0037403494987483733, 0.0037263592843755863, 0.0037124735308593343, 0.003698691071142003, 0.0036850107555022574, 0.00367143145123409, 0.0036579520423329795, 0.0036445714291889714, 0.0036312885282865108, 0.0036181022719108456, 0.0036050116078608393, 0.0035920154991680277, 0.0035791129238217645, 0.0035663028745002968, 0.0035535843583076277, 0.003540956396516019, 0.003528418024313991, 0.003515968290559687, 0.0035036062575394657, 0.003491331000731596, 0.0034791416085749264, 0.003467037182242409, 0.003455016835419358, 0.0034430796940863265, 0.003431224896306497, 0.0034194515920174633, 0.003407758942827312, 0.003396146121814893, 0.0033846123133341745, 0.0033731567128226013, 0.003361778526613341, 0.003350476971751343, 0.0033392512758131064, 0.003328100676730087, 0.0033170244226156356, 0.003306021771595407, 0.003295091991641144, 0.0032842343604077666, 0.0032734481650736834, 0.003262732702184259, 0.0032520872774983566, 0.00324151120583789, 0.003231003810940317, 0.003220564425314006, 0.003210192390096408, 0.003199887054914975, 0.0031896477777507625, 0.003179473924804652, 0.0031693648703661394, 0.0031593199966846283, 0.003149338693843177, 0.0031394203596346393, 0.0031295643994401507, 0.0031197702261099077, 0.0031100372598461858, 0.0031003649280885543, 0.003090752665401233, 0.003081199913362548, 0.0030717061204564426, 0.0030622707419659927, 0.0030528932398688918, 0.0030435730827348545, 0.0030343097456249062, 0.003025102709992512, 0.0030159514635865075, 0.003006855500355798, 0.002997814320355778, 0.002988827429656448, 0.0029798943402521813, 0.0029710145699731144, 0.002962187642398122, 0.002953413086769346, 0.0029446904379082455, 0.002936019236133137, 0.002927399027178193, 0.0029188293621138692, 0.0029103097972687313, 0.002901839894152653, 0.0028934192193813576, 0.002885047344602272, 0.0028767238464216752, 0.0028684483063331043, 0.0028602203106469987, 0.002852039450421561, 0.0028439053213948, 0.0028358175239177425, 0.0028277756628887836, 0.0028197793476891575, 0.002811828192119503, 0.0028039218143375054, 0.002796059836796588, 0.002788241886185641, 0.002780467593369761, 0.0027727365933319812, 0.002765048525115979, 0.002757403031769733, 0.00274979976029012, 0.0027422383615684286, 0.0027347184903367713, 0.0027272398051153813, 0.0027198019681607755, 0.002712404645414764, 0.0027050475064542964, 0.0026977302244421218, 0.0026904524760782535, 0.002683213941552218, 0.0026760143044960777, 0.00266885325193821, 0.002661730474257829, 0.002654645665140236, 0.002647598521532788, 0.0026405887436015654, 0.0026336160346887303, 0.0026266801012705607, 0.00261978065291615, 0.002612917402246756, 0.002606090064895792, 0.0025992983594694437, 0.002592542007507903, 0.0025858207334472096, 0.002579134264581684, 0.0025724823310269446, 0.002565864665683499, 0.0025592810042008958, 0.0025527310849424324, 0.002546214648950401, 0.002539731439911871, 0.0025332812041249943, 0.0025268636904658215, 0.002520478650355627, 0.0025141258377287283, 0.0025078050090007933, 0.0025015159230376235, 0.0024952583411244128, 0.0024890320269354616, 0.002482836746504351, 0.0024766722681945587, 0.0024705383626705147, 0.0024644348028690878, 0.0024583613639714954, 0.0024523178233756275, 0.002446303960668782, 0.0024403195576007983, 0.002434364398057589, 0.0024284382680350588, 0.0024225409556134017, 0.0024166722509317774, 0.002410831946163354, 0.002405019835490712, 0.0023992357150816085, 0.0023934793830650853, 0.0023877506395079276, 0.0023820492863914572, 0.0023763751275886593, 0.002370727968841637, 0.002365107617739389, 0.0023595138836959005, 0.0023539465779285466, 0.0023484055134368052, 0.002342890504981265, 0.0023374013690629337, 0.0023319379239028363, 0.0023264999894219, 0.0023210873872211196, 0.0023156999405620025, 0.0023103374743472837, 0.0023049998151019103, 0.0022996867909542903, 0.002294398231617801, 0.00228913396837255, 0.002283893834047393, 0.0022786776630021937, 0.0022734852911103286, 0.0022683165557414336, 0.002263171295744383, 0.0022580493514305017, 0.002252950564557006, 0.002247874778310668, 0.002242821837291703, 0.00223779158749787, 0.002232783876308794, 0.0022277985524704895, 0.0022228354660801, 0.0022178944685708364, 0.0022129754126971194, 0.0022080781525199173, 0.0022032025433922817, 0.0021983484419450714, 0.002193515706072869, 0.0021887041949200806, 0.00218391376886722, 0.0021791442895173724, 0.0021743956196828363, 0.0021696676233719406, 0.0021649601657760323, 0.0021602731132566353, 0.002155606333332776, 0.0021509596946684716, 0.002146333067060383, 0.002141726321425626, 0.002137139329789739, 0.0021325719652748047, 0.0021280241020877285, 0.0021234956155086623, 0.0021189863818795777, 0.0021144962785929864, 0.002110025184080803, 0.002105572977803348, 0.002101139540238492, 0.0020967247528709387, 0.002092328498181637, 0.002087950659637334, 0.0020835911216802545, 0.0020792497697179097, 0.0020749264901130378, 0.002070621170173665, 0.0020663336981432937, 0.002062063963191211, 0.002057811855402919, 0.0020535772657706824, 0.0020493600861841922, 0.0020451602094213473, 0.002040977529139147, 0.002036811939864696, 0.0020326633369863205, 0.002028531616744792, 0.002024416676224659, 0.0020203184133456824, 0.0020162367268543786, 0.002012171516315662, 0.00200812268210459, 0.002004090125398207, 0.0020000737481674882, 0.0019960734531693797, 0.0019920891439389322, 0.001988120724781533, 0.001984168100765227, 0.0019802311777131327, 0.0019763098621959456, 0.0019724040615245325, 0.001968513683742614, 0.001964638637619532, 0.0019607788326431045, 0.001956934179012563, 0.0019531045876315756, 0.001949289970101348, 0.0019454902387138105, 0.0019417053064448796, 0.0019379350869478033, 0.00193417949454658, 0.0019304384442294556, 0.0019267118516424965, 0.001922999633083237, 0.0019193017054943986, 0.001915617986457685, 0.0019119483941876449, 0.0019082928475256083, 0.001904651265933691, 0.0019010235694888681, 0.001897409678877116, 0.0018938095153876195, 0.0018902230009070467, 0.0018866500579138887, 0.0018830906094728622, 0.0018795445792293773, 0.0018760118914040668, 0.0018724924707873773, 0.0018689862427342218, 0.001865493133158692, 0.0018620130685288298, 0.0018585459758614577, 0.0018550917827170668, 0.0018516504171947625, 0.001848221807927265, 0.0018448058840759669, 0.0018414025753260455, 0.0018380118118816282, 0.001834633524461012, 0.0018312676442919357, 0.001827914103106905, 0.001824572833138568, 0.0018212437671151407, 0.001817926838255885, 0.001814621980266634, 0.001811329127335367, 0.0018080482141278336, 0.0018047791757832227, 0.0018015219479098818, 0.001798276466581081, 0.0017950426683308216, 0.0017918204901496934, 0.001788609869480773, 0.0017854107442155688, 0.0017822230526900085, 0.0017790467336804686, 0.0017758817263998495, 0.0017727279704936887, 0.001769585406036318, 0.0017664539735270613, 0.0017633336138864718, 0.0017602242684526099, 0.0017571258789773605, 0.0017540383876227885, 0.0017509617369575342, 0.0017478958699532448, 0.0017448407299810451, 0.0017417962608080443, 0.0017387624065938795, 0.0017357391118872953, 0.0017327263216227599, 0.0017297239811171154, 0.0017267320360662636, 0.0017237504325418862, 0.0017207791169881977, 0.0017178180362187351, 0.0017148671374131767, 0.001711926368114197, 0.0017089956762243524, 0.0017060750100029987, 0.001703164318063242, 0.0017002635493689182, 0.0016973726532316057, 0.0016944915793076672, 0.0016916202775953226, 0.001688758698431751, 0.0016859067924902221, 0.0016830645107772575, 0.0016802318046298195, 0.00167740862571253, 0.001674594926014915, 0.00167179065784868, 0.00166899577384501, 0.0016662102269518974, 0.0016634339704314984, 0.001660666957857513, 0.0016579091431125933, 0.001655160480385777, 0.001652420924169946, 0.0016496904292593114, 0.0016469689507469215, 0.001644256444022197, 0.0016415528647684885, 0.0016388581689606588, 0.0016361723128626897, 0.0016334952530253112, 0.0016308269462836549, 0.00162816734975493, 0.001625516420836122, 0.0016228741172017143, 0.0016202403968014311, 0.001617615217858004, 0.0016149985388649582, 0.0016123903185844223, 0.0016097905160449575, 0.0016071990905394092, 0.0016046160016227784, 0.0016020412091101147, 0.0015994746730744276, 0.001596916353844621, 0.0015943662120034446, 0.0015918242083854664, 0.0015892903040750643, 0.0015867644604044373, 0.0015842466389516347, 0.0015817368015386053, 0.0015792349102292636, 0.0015767409273275768, 0.001574254815375667, 0.0015717765371519334, 0.001569306055669192, 0.001566843334172832, 0.0015643883361389902, 0.0015619410252727425, 0.0015595013655063125, 0.0015570693209972966, 0.0015546448561269055, 0.0015522279354982236, 0.0015498185239344825, 0.0015474165864773522, 0.0015450220883852469, 0.0015426349951316485, 0.0015402552724034437, 0.001537882886099277, 0.00153551780232792, 0.001533159987406654, 0.0015308094078596692, 0.0015284660304164775, 0.0015261298220103404, 0.001523800749776711, 0.001521478781051691, 0.0015191638833705005, 0.0015168560244659631, 0.0015145551722670044, 0.0015122612948971638, 0.0015099743606731197, 0.0015076943381032294, 0.0015054211958860809, 0.0015031549029090579, 0.0015008954282469183, 0.0014986427411603858, 0.001496396811094753, 0.0014941576076784985, 0.001491925100721915, 0.001489699260215751, 0.0014874800563298635, 0.0014852674594118846, 0.0014830614399858968, 0.0014808619687511238, 0.0014786690165806305, 0.0014764825545200348, 0.0014743025537862328, 0.0014721289857661322, 0.0014699618220153994, 0.0014678010342572166, 0.00146564659438105, 0.0014634984744414292, 0.0014613566466567369, 0.0014592210834080091, 0.0014570917572377467, 0.0014549686408487366, 0.0014528517071028834, 0.0014507409290200517, 0.0014486362797769177, 0.001446537732705832, 0.0014444452612936902, 0.0014423588391808163, 0.0014402784401598531, 0.001438204038174664, 0.001436135607319242, 0.0014340731218366318, 0.0014320165561178576, 0.0014299658847008619, 0.0014279210822694536, 0.001425882123652264, 0.001423848983821713, 0.0014218216378929828, 0.0014198000611230022, 0.0014177842289094375, 0.001415774116789693, 0.0014137697004399214, 0.0014117709556740394, 0.0014097778584427547, 0.0014077903848325993, 0.0014058085110649722, 0.0014038322134951894, 0.0014018614686115427, 0.001399896253034365, 0.0013979365435151053, 0.0013959823169354105, 0.001394033550306214, 0.0013920902207668346, 0.00139015230558408, 0.0013882197821513593, 0.001386292627987803, 0.0013843708207373895, 0.0013824543381680803, 0.0013805431581709606, 0.001378637258759388, 0.0013767366180681485, 0.0013748412143526187, 0.001372951025987936, 0.0013710660314681748, 0.0013691862094055288, 0.0013673115385295026, 0.0013654419976861067, 0.0013635775658370618, 0.0013617182220590077, 0.0013598639455427203, 0.0013580147155923333, 0.0013561705116245679, 0.0013543313131679678, 0.0013524970998621405, 0.001350667851457005, 0.0013488435478120455, 0.0013470241688955712, 0.0013452096947839825, 0.0013434001056610416, 0.0013415953818171516, 0.0013397955036486386, 0.0013380004516570416, 0.0013362102064484072, 0.0013344247487325903, 0.0013326440593225603, 0.0013308681191337127, 0.001329096909183186, 0.0013273304105891857, 0.001325568604570311, 0.0013238114724448884, 0.0013220589956303118, 0.0013203111556423848, 0.001318567934094671, 0.0013168293126978483, 0.001315095273259068, 0.0013133657976813198, 0.0013116408679628008, 0.0013099204661962906, 0.0013082045745685307, 0.0013064931753596087, 0.0013047862509423475, 0.0013030837837816993, 0.0013013857564341444, 0.0012996921515470948, 0.0012980029518583017, 0.0012963181401952689, 0.0012946376994746695, 0.0012929616127017685, 0.001291289862969848, 0.0012896224334596393, 0.001287959307438757, 0.0012863004682611388, 0.00128464589936649, 0.0012829955842797308, 0.0012813495066104495, 0.0012797076500523587, 0.0012780699983827562, 0.00127643653546199, 0.001274807245232928, 0.0012731821117204297, 0.0012715611190308247, 0.0012699442513513938, 0.0012683314929498534, 0.0012667228281738451, 0.0012651182414504284, 0.0012635177172855777, 0.0012619212402636831, 0.0012603287950470545, 0.0012587403663754297, 0.0012571559390654869, 0.0012555754980103592, 0.0012539990281791552, 0.001252426514616481, 0.0012508579424419667, 0.0012492932968497965, 0.0012477325631082429, 0.001246175726559202, 0.0012446227726177368, 0.0012430736867716182, 0.0012415284545808742, 0.0012399870616773402, 0.0012384494937642129, 0.001236915736615608, 0.0012353857760761206, 0.0012338595980603893, 0.0012323371885526635, 0.0012308185336063736, 0.0012293036193437045, 0.001227792431955173, 0.0012262849576992066, 0.0012247811829017273, 0.0012232810939557372, 0.0012217846773209075, 0.0012202919195231714, 0.001218802807154318, 0.0012173173268715907, 0.0012158354653972888, 0.001214357209518371, 0.0012128825460860618, 0.0012114114620154616, 0.0012099439442851592, 0.0012084799799368469, 0.0012070195560749386, 0.0012055626598661913, 0.0012041092785393278, 0.0012026593993846632, 0.001201213009753735, 0.0011997700970589333, 0.0011983306487731364, 0.0011968946524293473, 0.0011954620956203333, 0.0011940329659982682, 0.0011926072512743774, 0.0011911849392185851, 0.001189766017659164, 0.0011883504744823873, 0.0011869382976321848, 0.0011855294751097988, 0.0011841239949734448, 0.0011827218453379729, 0.0011813230143745332, 0.0011799274903102422, 0.0011785352614278523, 0.0011771463160654234, 0.001175760642615997, 0.0011743782295272722, 0.0011729990653012847, 0.001171623138494087, 0.0011702504377154323, 0.0011688809516284592, 0.0011675146689493793, 0.0011661515784471674, 0.0011647916689432527, 0.0011634349293112131, 0.0011620813484764718, 0.0011607309154159948, 0.0011593836191579922, 0.0011580394487816202, 0.0011566983934166858, 0.001155360442243353, 0.0011540255844918522, 0.0011526938094421903, 0.001151365106423864, 0.0011500394648155735, 0.00114871687404494, 0.0011473973235882244, 0.001146080802970047, 0.0011447673017631105, 0.0011434568095879244, 0.0011421493161125314, 0.0011408448110522352, 0.0011395432841693302, 0.001138244725272835, 0.0011369491242182235, 0.001135656470907163, 0.0011343667552872496, 0.0011330799673517488, 0.0011317960971393348, 0.0011305151347338349, 0.0011292370702639725, 0.001127961893903114, 0.0011266895958690166, 0.0011254201664235772, 0.0011241535958725843, 0.001122889874565471, 0.0011216289928950693, 0.0011203709412973665, 0.001119115710251263, 0.0011178632902783317, 0.00111661367194258, 0.0011153668458502109, 0.001114122802649389, 0.0011128815330300056, 0.0011116430277234464, 0.0011104072775023602, 0.00110917427318043, 0.0011079440056121447, 0.0011067164656925728, 0.0011054916443571376, 0.001104269532581394, 0.0011030501213808066, 0.0011018334018105284, 0.001100619364965183, 0.0010994080019786467, 0.0010981993040238322, 0.0010969932623124737, 0.0010957898680949148, 0.0010945891126598953, 0.0010933909873343417, 0.0010921954834831578, 0.0010910025925090169, 0.0010898123058521554, 0.0010886246149901687, 0.001087439511437806, 0.0010862569867467699, 0.0010850770325055137, 0.0010838996403390428, 0.0010827248019087156, 0.0010815525089120472, 0.0010803827530825132, 0.001079215526189355, 0.0010780508200373868, 0.0010768886264668036, 0.00107572893735299, 0.0010745717446063313, 0.001073417040172025, 0.0010722648160298933, 0.0010711150641941978, 0.001069967776713454, 0.0010688229456702488, 0.0010676805631810577, 0.001066540621396063, 0.0010654031124989751, 0.0010642680287068526, 0.001063135362269925, 0.0010620051054714163, 0.001060877250627369, 0.0010597517900864703, 0.0010586287162298788, 0.0010575080214710523, 0.0010563896982555766, 0.001055273739060996, 0.0010541601363966441, 0.0010530488828034764, 0.0010519399708539027, 0.0010508333931516225, 0.00104972914233146, 0.0010486272110592002, 0.0010475275920314264, 0.0010464302779753592, 0.0010453352616486956, 0.0010442425358394495, 0.001043152093365793, 0.0010420639270758995, 0.0010409780298477867, 0.0010398943945891608, 0.0010388130142372628, 0.001037733881758714, 0.0010366569901493641, 0.0010355823324341385, 0.0010345099016668888, 0.001033439690930242, 0.001032371693335452, 0.0010313059020222518, 0.0010302423101587058, 0.0010291809109410647, 0.0010281216975936193, 0.0010270646633685565, 0.001026009801545816, 0.0010249571054329481, 0.0010239065683649707, 0.00102285818370423, 0.0010218119448402593, 0.001020767845189641, 0.001019725878195868, 0.0010186860373292057, 0.0010176483160865561, 0.0010166127079913223, 0.0010155792065932728, 0.0010145478054684083, 0.0010135184982188277, 0.0010124912784725958, 0.0010114661398836127, 0.0010104430761314817, 0.0010094220809213797, 0.001008403147983928, 0.0010073862710750642, 0.0010063714439759136, 0.0010053586604926634, 0.0010043479144564358, 0.0010033391997231627, 0.0010023325101734615, 0.0010013278397125109, 0.0010003251822699275, 0.0009993245317996443, 0.0009983258822797876, 0.000997329227712558, 0.0009963345621241083, 0.0009953418795644253, 0.0009943511741072105, 0.000993362439849762, 0.0009923756709128578, 0.0009913908614406382]\n"
     ]
    }
   ],
   "source": [
    "print(iterate(0.5,1000,1))"
   ]
  },
  {
   "cell_type": "code",
   "execution_count": null,
   "id": "f4d6b9f3-311d-4919-b663-653804ac0e4b",
   "metadata": {},
   "outputs": [],
   "source": []
  }
 ],
 "metadata": {
  "kernelspec": {
   "display_name": "Python 3 (ipykernel)",
   "language": "python",
   "name": "python3"
  },
  "language_info": {
   "codemirror_mode": {
    "name": "ipython",
    "version": 3
   },
   "file_extension": ".py",
   "mimetype": "text/x-python",
   "name": "python",
   "nbconvert_exporter": "python",
   "pygments_lexer": "ipython3",
   "version": "3.9.5"
  }
 },
 "nbformat": 4,
 "nbformat_minor": 5
}
