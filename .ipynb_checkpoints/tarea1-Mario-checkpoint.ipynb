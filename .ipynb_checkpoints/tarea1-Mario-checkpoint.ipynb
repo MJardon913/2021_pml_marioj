{
 "cells": [
  {
   "cell_type": "markdown",
   "id": "0edd1c3e-a20f-4f4b-a3b1-a978f0f379aa",
   "metadata": {},
   "source": [
    "#### 1. Crear listas en Markdown"
   ]
  },
  {
   "cell_type": "markdown",
   "id": "763cd82d-a386-43da-bedf-0469c0ba0ce4",
   "metadata": {},
   "source": [
    "\n",
    "1. Get funding.\n",
    "1. Do work.\n",
    "    * Design experiment.\n",
    "    * Collect data.\n",
    "    * Analyze.\n",
    "1. Write up.\n",
    "1. Publish."
   ]
  },
  {
   "cell_type": "markdown",
   "id": "2cd69334-29c9-4af3-825d-75b4640828be",
   "metadata": {},
   "source": [
    "#### 3. Tipos de división \n",
    "\n",
    "If num_subjects is the number of subjects taking part in a study, and num_per_survey is the number that can take part in a single survey, write an expression that calculates the number of surveys needed to reach everyone once."
   ]
  },
  {
   "cell_type": "code",
   "execution_count": null,
   "id": "5af4539d-91f9-4265-aea9-14f4445568d4",
   "metadata": {},
   "outputs": [],
   "source": [
    "surveys_needed=(num_subjects // num_per_survey)+min(num_subjects % num_per_survey ,1)\n",
    "print(surveys_needed)"
   ]
  },
  {
   "cell_type": "markdown",
   "id": "3a92a484-561c-4d61-878a-26865850c358",
   "metadata": {
    "tags": []
   },
   "source": [
    "#### 4. Último caracter de un string\n",
    "If Python starts counting from zero, and len returns the number of characters in a string, what index expression will get the last character in the string name? (Note: we will see a simpler way to do this in a later episode.)"
   ]
  },
  {
   "cell_type": "code",
   "execution_count": 1,
   "id": "86ff3a2d-2660-43ca-9697-f4eecab33b69",
   "metadata": {},
   "outputs": [
    {
     "name": "stdout",
     "output_type": "stream",
     "text": [
      "e\n"
     ]
    }
   ],
   "source": [
    "name = 'name'\n",
    "print(name[len(name)-1])"
   ]
  },
  {
   "cell_type": "markdown",
   "id": "00d16468-14d5-4a4a-bce1-7a245e3292b5",
   "metadata": {},
   "source": [
    "#### 6. Jigsaw Puzzle (Parson’s Problem) Programming Example\n",
    "\n",
    "Rearrange the following statements so that a random DNA base is printed and its index in the string. Not all statements may be needed. Feel free to use/add intermediate variables.\n",
    "\n",
    "bases=\"ACTTGCTTGAC\" \n",
    "\n",
    "import math\n",
    "\n",
    "import random\n",
    "\n",
    "___ = random.randrange(n_bases)\n",
    "\n",
    "___ = len(bases)\n",
    "\n",
    "print(\"random base \", bases[___], \"base index\", ___)\n",
    "\n"
   ]
  },
  {
   "cell_type": "code",
   "execution_count": 2,
   "id": "574d2536-4fe0-4dbc-88e8-f87af5a77236",
   "metadata": {},
   "outputs": [
    {
     "name": "stdout",
     "output_type": "stream",
     "text": [
      "random base  T base index 2\n"
     ]
    }
   ],
   "source": [
    "bases=\"ACTTGCTTGAC\"\n",
    "import math\n",
    "import random\n",
    "n_bases = len(bases)\n",
    "random_index = random.randrange(n_bases)\n",
    "print(\"random base \", bases[random_index], \"base index\", random_index)"
   ]
  },
  {
   "cell_type": "markdown",
   "id": "0bad092e-5c0e-4310-a6e9-bfcd2010b9a3",
   "metadata": {},
   "source": [
    "#### 7. Writing data \n",
    "\n",
    "As well as the read_csv function for reading data from a file, Pandas provides a to_csv function to write dataframes to files. Applying what you’ve learned about reading from files, write one of your dataframes to a file called processed.csv. You can use help to get information on how to use to_csv."
   ]
  },
  {
   "cell_type": "code",
   "execution_count": 3,
   "id": "601eefa0-5f60-4fd7-ac4f-f379df2e4fa6",
   "metadata": {},
   "outputs": [],
   "source": [
    "import pandas as pd\n",
    "americas = pd.read_csv('data/gapminder_gdp_americas.csv', index_col='country')\n",
    "americas.to_csv('processed.csv')"
   ]
  },
  {
   "cell_type": "markdown",
   "id": "9b380997-0fbf-4fb5-aeb5-19fc6523c382",
   "metadata": {},
   "source": [
    "#### 8. Practice with selection\n",
    "\n",
    "Assume Pandas has been imported and the Gapminder GDP data for Europe has been loaded. Write an expression to select each of the following:\n",
    "\n",
    "1. GDP per capita for all countries in 1982.\n",
    "1. GDP per capita for Denmark for all years.\n",
    "1. GDP per capita for all countries for years after 1985.\n",
    "1. GDP per capita for each country in 2007 as a multiple of GDP per capita for that country in 1952."
   ]
  },
  {
   "cell_type": "code",
   "execution_count": 17,
   "id": "44433ded-042b-4613-a683-c7a199fc44fd",
   "metadata": {},
   "outputs": [
    {
     "name": "stdout",
     "output_type": "stream",
     "text": [
      "1. GDP per capita de todos los países de europa en 1982\n",
      " country\n",
      "Albania                    3630.880722\n",
      "Austria                   21597.083620\n",
      "Belgium                   20979.845890\n",
      "Bosnia and Herzegovina     4126.613157\n",
      "Bulgaria                   8224.191647\n",
      "Croatia                   13221.821840\n",
      "Czech Republic            15377.228550\n",
      "Denmark                   21688.040480\n",
      "Finland                   18533.157610\n",
      "France                    20293.897460\n",
      "Germany                   22031.532740\n",
      "Greece                    15268.420890\n",
      "Hungary                   12545.990660\n",
      "Iceland                   23269.607500\n",
      "Ireland                   12618.321410\n",
      "Italy                     16537.483500\n",
      "Montenegro                11222.587620\n",
      "Netherlands               21399.460460\n",
      "Norway                    26298.635310\n",
      "Poland                     8451.531004\n",
      "Portugal                  11753.842910\n",
      "Romania                    9605.314053\n",
      "Serbia                    15181.092700\n",
      "Slovak Republic           11348.545850\n",
      "Slovenia                  17866.721750\n",
      "Spain                     13926.169970\n",
      "Sweden                    20667.381250\n",
      "Switzerland               28397.715120\n",
      "Turkey                     4241.356344\n",
      "United Kingdom            18232.424520\n",
      "Name: gdpPercap_1982, dtype: float64\n",
      "2. GDP per capita de Dinamarca en la segunda mitad del siglo 20\n",
      " gdpPercap_1952     9692.385245\n",
      "gdpPercap_1957    11099.659350\n",
      "gdpPercap_1962    13583.313510\n",
      "gdpPercap_1967    15937.211230\n",
      "gdpPercap_1972    18866.207210\n",
      "gdpPercap_1977    20422.901500\n",
      "gdpPercap_1982    21688.040480\n",
      "gdpPercap_1987    25116.175810\n",
      "gdpPercap_1992    26406.739850\n",
      "gdpPercap_1997    29804.345670\n",
      "gdpPercap_2002    32166.500060\n",
      "gdpPercap_2007    35278.418740\n",
      "Name: Denmark, dtype: float64\n",
      "3.                         gdpPercap_1987  gdpPercap_1992  gdpPercap_1997  \\\n",
      "country                                                                  \n",
      "Albania                    3738.932735     2497.437901     3193.054604   \n",
      "Austria                   23687.826070    27042.018680    29095.920660   \n",
      "Belgium                   22525.563080    25575.570690    27561.196630   \n",
      "Bosnia and Herzegovina     4314.114757     2546.781445     4766.355904   \n",
      "Bulgaria                   8239.854824     6302.623438     5970.388760   \n",
      "Croatia                   13822.583940     8447.794873     9875.604515   \n",
      "Czech Republic            16310.443400    14297.021220    16048.514240   \n",
      "Denmark                   25116.175810    26406.739850    29804.345670   \n",
      "Finland                   21141.012230    20647.164990    23723.950200   \n",
      "France                    22066.442140    24703.796150    25889.784870   \n",
      "Germany                   24639.185660    26505.303170    27788.884160   \n",
      "Greece                    16120.528390    17541.496340    18747.698140   \n",
      "Hungary                   12986.479980    10535.628550    11712.776800   \n",
      "Iceland                   26923.206280    25144.392010    28061.099660   \n",
      "Ireland                   13872.866520    17558.815550    24521.947130   \n",
      "Italy                     19207.234820    22013.644860    24675.024460   \n",
      "Montenegro                11732.510170     7003.339037     6465.613349   \n",
      "Netherlands               23651.323610    26790.949610    30246.130630   \n",
      "Norway                    31540.974800    33965.661150    41283.164330   \n",
      "Poland                     9082.351172     7738.881247    10159.583680   \n",
      "Portugal                  13039.308760    16207.266630    17641.031560   \n",
      "Romania                    9696.273295     6598.409903     7346.547557   \n",
      "Serbia                    15870.878510     9325.068238     7914.320304   \n",
      "Slovak Republic           12037.267580     9498.467723    12126.230650   \n",
      "Slovenia                  18678.534920    14214.716810    17161.107350   \n",
      "Spain                     15764.983130    18603.064520    20445.298960   \n",
      "Sweden                    23586.929270    23880.016830    25266.594990   \n",
      "Switzerland               30281.704590    31871.530300    32135.323010   \n",
      "Turkey                     5089.043686     5678.348271     6601.429915   \n",
      "United Kingdom            21664.787670    22705.092540    26074.531360   \n",
      "\n",
      "                        gdpPercap_2002  gdpPercap_2007  \n",
      "country                                                 \n",
      "Albania                    4604.211737     5937.029526  \n",
      "Austria                   32417.607690    36126.492700  \n",
      "Belgium                   30485.883750    33692.605080  \n",
      "Bosnia and Herzegovina     6018.975239     7446.298803  \n",
      "Bulgaria                   7696.777725    10680.792820  \n",
      "Croatia                   11628.388950    14619.222720  \n",
      "Czech Republic            17596.210220    22833.308510  \n",
      "Denmark                   32166.500060    35278.418740  \n",
      "Finland                   28204.590570    33207.084400  \n",
      "France                    28926.032340    30470.016700  \n",
      "Germany                   30035.801980    32170.374420  \n",
      "Greece                    22514.254800    27538.411880  \n",
      "Hungary                   14843.935560    18008.944440  \n",
      "Iceland                   31163.201960    36180.789190  \n",
      "Ireland                   34077.049390    40675.996350  \n",
      "Italy                     27968.098170    28569.719700  \n",
      "Montenegro                 6557.194282     9253.896111  \n",
      "Netherlands               33724.757780    36797.933320  \n",
      "Norway                    44683.975250    49357.190170  \n",
      "Poland                    12002.239080    15389.924680  \n",
      "Portugal                  19970.907870    20509.647770  \n",
      "Romania                    7885.360081    10808.475610  \n",
      "Serbia                     7236.075251     9786.534714  \n",
      "Slovak Republic           13638.778370    18678.314350  \n",
      "Slovenia                  20660.019360    25768.257590  \n",
      "Spain                     24835.471660    28821.063700  \n",
      "Sweden                    29341.630930    33859.748350  \n",
      "Switzerland               34480.957710    37506.419070  \n",
      "Turkey                     6508.085718     8458.276384  \n",
      "United Kingdom            29478.999190    33203.261280  \n",
      "4. country\n",
      "Albania                   3.056725\n",
      "Austria                   4.085507\n",
      "Belgium                   3.468115\n",
      "Bosnia and Herzegovina    5.499526\n",
      "Bulgaria                  3.550004\n",
      "Croatia                   3.369858\n",
      "Czech Republic            2.765547\n",
      "Denmark                   3.178333\n",
      "Finland                   4.400962\n",
      "France                    3.517326\n",
      "Germany                   3.157727\n",
      "Greece                    5.601451\n",
      "Hungary                   2.981524\n",
      "Iceland                   3.913975\n",
      "Ireland                   7.264767\n",
      "Italy                     4.572138\n",
      "Montenegro                2.513102\n",
      "Netherlands               3.263329\n",
      "Norway                    4.235224\n",
      "Poland                    3.250761\n",
      "Portugal                  5.433636\n",
      "Romania                   2.740923\n",
      "Serbia                    1.964737\n",
      "Slovak Republic           3.065404\n",
      "Slovenia                  4.395606\n",
      "Spain                     6.313759\n",
      "Sweden                    3.416078\n",
      "Switzerland               2.094220\n",
      "Turkey                    3.812174\n",
      "United Kingdom            2.942722\n",
      "dtype: float64\n"
     ]
    }
   ],
   "source": [
    "europe = pd.read_csv('data/gapminder_gdp_europe.csv', index_col='country')\n",
    "#1\n",
    "print('1. GDP per capita de todos los países de europa en 1982\\n' , europe.loc[:,'gdpPercap_1982'])\n",
    "#2 \n",
    "print('2. GDP per capita de Dinamarca en la segunda mitad del siglo 20\\n', europe.loc['Denmark',:])\n",
    "#3 \n",
    "print('3.', europe.loc[:,'gdpPercap_1987':])\n",
    "#4\n",
    "print('4.', europe.loc[:,'gdpPercap_2007']/europe.loc[:,'gdpPercap_1957'])"
   ]
  },
  {
   "cell_type": "code",
   "execution_count": null,
   "id": "ea963af0-a4ec-4d65-ad9f-cef52d3987b4",
   "metadata": {},
   "outputs": [],
   "source": []
  },
  {
   "cell_type": "code",
   "execution_count": null,
   "id": "2c04f630-b523-4280-b2b3-d39f33db6cc6",
   "metadata": {},
   "outputs": [],
   "source": []
  }
 ],
 "metadata": {
  "kernelspec": {
   "display_name": "Python 3 (ipykernel)",
   "language": "python",
   "name": "python3"
  },
  "language_info": {
   "codemirror_mode": {
    "name": "ipython",
    "version": 3
   },
   "file_extension": ".py",
   "mimetype": "text/x-python",
   "name": "python",
   "nbconvert_exporter": "python",
   "pygments_lexer": "ipython3",
   "version": "3.9.5"
  }
 },
 "nbformat": 4,
 "nbformat_minor": 5
}
