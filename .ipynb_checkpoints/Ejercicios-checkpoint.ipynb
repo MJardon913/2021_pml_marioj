{
 "cells": [
  {
   "cell_type": "code",
   "execution_count": null,
   "id": "6afce5c7-49fe-445f-85ba-b687fc08025e",
   "metadata": {},
   "outputs": [],
   "source": [
    "#1\n",
    "import matplotlib.pyplot as plt\n",
    "import numpy as np\n",
    "import mglearn\n",
    "from sklearn.model_selection import train_test_split"
   ]
  },
  {
   "cell_type": "markdown",
   "id": "c8236569-7508-4973-a533-a91d06f1d379",
   "metadata": {},
   "source": [
    "https://github.com/MJardon913/2021_pml_mariojAplicar el algoritmo de KNeighborsRegressor al dataset de viviendas en Boston con los siguientes parámetros:\n",
    "\n",
    "    * random_state=2 para dividir el dataset en conjunto de entrenamiento y conjunto de prueba\n",
    "    * n_neighbors=3\n",
    "Responder:     \n",
    "    \n",
    "    * ¿Cuál es el desempeño en el conjunto de prueba (redondeado a dos cifras decimales)?\n",
    "    * ¿Hay alguna mejora si el número de vecinos es 5?"
   ]
  },
  {
   "cell_type": "code",
   "execution_count": null,
   "id": "3520919d-9dde-4f12-a551-18528435b230",
   "metadata": {},
   "outputs": [],
   "source": [
    "#2\n",
    "\n",
    "#Se carga el dataset de viviendas en Boston\n",
    "boston = mglearn.datasets.load_boston()\n",
    "#Se piden los nombres de los arrays de los que consiste boston\n",
    "boston.keys()\n"
   ]
  },
  {
   "cell_type": "code",
   "execution_count": null,
   "id": "fcfd18b5-3cd4-4674-a82a-12648d6838a1",
   "metadata": {},
   "outputs": [],
   "source": [
    "#3 \n",
    "#Definir una variable X con los datos de boston, y una variable y con los targets, etc... \n",
    "#X =\n",
    "#y ="
   ]
  },
  {
   "cell_type": "markdown",
   "id": "2c17272b-64f6-4953-934f-5e7e3d01fc2c",
   "metadata": {},
   "source": [
    "Con los mismos conjuntos de entrenamiento que el ejercicio anterior, aplicar LinearRegression. \n",
    "\n",
    "Responder:\n",
    "    \n",
    "    * ¿Cuál es el desempeño en el conjunto de prueba (redondeado a dos cifras decimales)?\n",
    "    * ¿Cuál es el peso que tiene la criminalidad según el modelo? "
   ]
  }
 ],
 "metadata": {
  "kernelspec": {
   "display_name": "Python 3 (ipykernel)",
   "language": "python",
   "name": "python3"
  },
  "language_info": {
   "codemirror_mode": {
    "name": "ipython",
    "version": 3
   },
   "file_extension": ".py",
   "mimetype": "text/x-python",
   "name": "python",
   "nbconvert_exporter": "python",
   "pygments_lexer": "ipython3",
   "version": "3.8.10"
  }
 },
 "nbformat": 4,
 "nbformat_minor": 5
}
