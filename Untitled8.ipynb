{
 "cells": [
  {
   "cell_type": "code",
   "execution_count": null,
   "id": "20562411-60d7-4328-a6c9-9a6264b06ff4",
   "metadata": {},
   "outputs": [],
   "source": [
    "from sklearn.datasets import fetch_olivetti_faces\n",
    "from sklearn.neighbors import KNeighborsClassifier"
   ]
  },
  {
   "cell_type": "code",
   "execution_count": null,
   "id": "085bcfbd-0fa1-4468-956e-5e6cacc2016c",
   "metadata": {},
   "outputs": [],
   "source": [
    "faces = fetch_olivetti_faces()\n",
    "image_shape = faces.images[0].shape\n",
    "fix, axes = plt.subplots(2, 5, figsize=(15, 8), subplot_kw={'xticks': (), 'yticks': ()})\n",
    "for target, image, ax in zip(faces.target, faces.images, axes.ravel()):\n",
    "    ax.imshow(image)\n",
    "    #ax.set_title(people.target_names[target])\n",
    "plt.suptitle(\"some_faces\")\n"
   ]
  },
  {
   "cell_type": "code",
   "execution_count": null,
   "id": "4eba923a-0acc-4528-883e-222498527aef",
   "metadata": {},
   "outputs": [],
   "source": [
    "X = faces.data\n",
    "#X = people.images\n",
    "y = faces.target\n"
   ]
  },
  {
   "cell_type": "code",
   "execution_count": null,
   "id": "c23adefb-b672-44af-bd4f-439a65c75caa",
   "metadata": {},
   "outputs": [],
   "source": [
    "from sklearn.decomposition import PCA\n",
    "# Mantenemos las primeras 2 componentes principales de los datos\n",
    "pca = PCA(n_components=20)\n",
    "# Ajustamos PCA al dataset de cancer ya escalado\n",
    "pca.fit(X)\n",
    "# Transformamos los datos en las primeras dos componentes principales\n",
    "X_pca = pca.transform(X)"
   ]
  },
  {
   "cell_type": "code",
   "execution_count": null,
   "id": "0b0261e4-99e5-4986-804a-5ecdc575f096",
   "metadata": {},
   "outputs": [],
   "source": []
  },
  {
   "cell_type": "code",
   "execution_count": null,
   "id": "4fd7e4b7-9667-4f0c-b6c4-8b2f334ce21f",
   "metadata": {},
   "outputs": [],
   "source": []
  },
  {
   "cell_type": "code",
   "execution_count": null,
   "id": "58d27324-2344-4483-a621-e02b5204c49b",
   "metadata": {},
   "outputs": [],
   "source": []
  }
 ],
 "metadata": {
  "kernelspec": {
   "display_name": "Python 3 (ipykernel)",
   "language": "python",
   "name": "python3"
  },
  "language_info": {
   "codemirror_mode": {
    "name": "ipython",
    "version": 3
   },
   "file_extension": ".py",
   "mimetype": "text/x-python",
   "name": "python",
   "nbconvert_exporter": "python",
   "pygments_lexer": "ipython3",
   "version": "3.9.5"
  }
 },
 "nbformat": 4,
 "nbformat_minor": 5
}
