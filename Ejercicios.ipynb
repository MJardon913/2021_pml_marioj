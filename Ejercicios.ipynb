{
 "cells": [
  {
   "cell_type": "code",
<<<<<<< HEAD
   "execution_count": 2,
=======
   "execution_count": 1,
>>>>>>> 1b841e74b9b1cb6c6b41768be18ff9ae5c20c481
   "id": "6afce5c7-49fe-445f-85ba-b687fc08025e",
   "metadata": {},
   "outputs": [
    {
     "ename": "ModuleNotFoundError",
     "evalue": "No module named 'mglearn'",
     "output_type": "error",
     "traceback": [
      "\u001b[1;31m---------------------------------------------------------------------------\u001b[0m",
      "\u001b[1;31mModuleNotFoundError\u001b[0m                       Traceback (most recent call last)",
      "\u001b[1;32m<ipython-input-1-9facda3487b1>\u001b[0m in \u001b[0;36m<module>\u001b[1;34m\u001b[0m\n\u001b[0;32m      2\u001b[0m \u001b[1;32mimport\u001b[0m \u001b[0mmatplotlib\u001b[0m\u001b[1;33m.\u001b[0m\u001b[0mpyplot\u001b[0m \u001b[1;32mas\u001b[0m \u001b[0mplt\u001b[0m\u001b[1;33m\u001b[0m\u001b[1;33m\u001b[0m\u001b[0m\n\u001b[0;32m      3\u001b[0m \u001b[1;32mimport\u001b[0m \u001b[0mnumpy\u001b[0m \u001b[1;32mas\u001b[0m \u001b[0mnp\u001b[0m\u001b[1;33m\u001b[0m\u001b[1;33m\u001b[0m\u001b[0m\n\u001b[1;32m----> 4\u001b[1;33m \u001b[1;32mimport\u001b[0m \u001b[0mmglearn\u001b[0m\u001b[1;33m\u001b[0m\u001b[1;33m\u001b[0m\u001b[0m\n\u001b[0m\u001b[0;32m      5\u001b[0m \u001b[1;32mfrom\u001b[0m \u001b[0msklearn\u001b[0m\u001b[1;33m.\u001b[0m\u001b[0mmodel_selection\u001b[0m \u001b[1;32mimport\u001b[0m \u001b[0mtrain_test_split\u001b[0m\u001b[1;33m\u001b[0m\u001b[1;33m\u001b[0m\u001b[0m\n",
      "\u001b[1;31mModuleNotFoundError\u001b[0m: No module named 'mglearn'"
     ]
    }
   ],
   "source": [
    "#1\n",
    "import matplotlib.pyplot as plt\n",
    "import numpy as np\n",
    "import mglearn\n",
    "from sklearn.model_selection import train_test_split"
   ]
  },
  {
   "cell_type": "markdown",
   "id": "c8236569-7508-4973-a533-a91d06f1d379",
   "metadata": {},
   "source": [
    "https://github.com/MJardon913/2021_pml_mariojAplicar el algoritmo de KNeighborsRegressor al dataset de viviendas en Boston con los siguientes parámetros:\n",
    "\n",
    "    * random_state=2 para dividir el dataset en conjunto de entrenamiento y conjunto de prueba\n",
    "    * n_neighbors=3\n",
    "Responder:     \n",
    "    \n",
    "    * ¿Cuál es el desempeño en el conjunto de prueba (redondeado a dos cifras decimales)?\n",
    "    * ¿Hay alguna mejora si el número de vecinos es 5?"
   ]
  },
  {
   "cell_type": "code",
   "execution_count": null,
   "id": "3520919d-9dde-4f12-a551-18528435b230",
   "metadata": {},
   "outputs": [],
   "source": [
    "#2\n",
    "\n",
    "#Se carga el dataset de viviendas en Boston\n",
    "boston = mglearn.datasets.load_boston()\n",
    "#Se piden los nombres de los arrays de los que consiste boston\n",
    "boston.keys()\n"
   ]
  },
  {
   "cell_type": "code",
   "execution_count": null,
   "id": "fcfd18b5-3cd4-4674-a82a-12648d6838a1",
   "metadata": {},
   "outputs": [],
   "source": [
    "#3 \n",
    "#Definir una variable X con los datos de boston, y una variable y con los targets, etc... \n",
    "#X =\n",
    "#y ="
   ]
  },
  {
   "cell_type": "markdown",
   "id": "2c17272b-64f6-4953-934f-5e7e3d01fc2c",
   "metadata": {},
   "source": [
    "Con los mismos conjuntos de entrenamiento que el ejercicio anterior, aplicar LinearRegression. \n",
    "\n",
    "Responder:\n",
    "    \n",
    "    * ¿Cuál es el desempeño en el conjunto de prueba (redondeado a dos cifras decimales)?\n",
    "    * ¿Cuál es el peso que tiene la criminalidad según el modelo? "
   ]
  }
 ],
 "metadata": {
  "kernelspec": {
   "display_name": "Python 3",
   "language": "python",
   "name": "python3"
  },
  "language_info": {
   "codemirror_mode": {
    "name": "ipython",
    "version": 3
   },
   "file_extension": ".py",
   "mimetype": "text/x-python",
   "name": "python",
   "nbconvert_exporter": "python",
   "pygments_lexer": "ipython3",
<<<<<<< HEAD
   "version": "3.8.10"
=======
   "version": "3.8.8"
>>>>>>> 1b841e74b9b1cb6c6b41768be18ff9ae5c20c481
  }
 },
 "nbformat": 4,
 "nbformat_minor": 5
}
